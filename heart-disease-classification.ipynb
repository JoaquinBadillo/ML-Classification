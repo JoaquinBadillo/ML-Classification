{
 "cells": [
  {
   "cell_type": "markdown",
   "id": "4d4f4ca2",
   "metadata": {},
   "source": [
    "# Project: Predicting heart disease\n",
    "\n",
    "This notebook implements code using python and multiple libraries to predict heart disease as seen in the course *Complete Machine Learning & Data Science Bootcamp 2021* by Andrei Neagoie and Daniel Bourke. The notebook also contains comments and notes I considered relevant when going through the videos.\n",
    "\n",
    "**Framework:**\n",
    "1. Defining the problem\n",
    "2. Dataset\n",
    "3. Defining metrics for success\n",
    "4. Data features\n",
    "5. Tools\n",
    "6. Exploratory Data Analysis\n",
    "7. Modelling\n",
    "8. Experimentation"
   ]
  },
  {
   "cell_type": "markdown",
   "id": "6e8de1de",
   "metadata": {},
   "source": [
    "## 1. Defining the problem\n",
    "\n",
    "As stated briefly at the beginning of the notebook, we want to predict if a person has heart disease or not by using relevant data from a clinical report. This means we want to classify individuals in a binary fashion as positive for heart disease or negative."
   ]
  },
  {
   "cell_type": "markdown",
   "id": "6e99a918",
   "metadata": {},
   "source": [
    "## 2. Dataset\n",
    "\n",
    "The dataset we are using for the machine learning model is called *Heart Disease UCI* and it comes from *kaggle*. The file with the data is available in the \"data\" folder of this project with the name \"heart-disease.csv\". The file is also available online at: https://www.kaggle.com/ronitf/heart-disease-uci"
   ]
  },
  {
   "cell_type": "markdown",
   "id": "876c9adb",
   "metadata": {},
   "source": [
    "## 3. Defining metrics for success\n",
    "\n",
    "The model will be considered viable if it can reach a $0.95$ accuracy score at classifying patients during the proof of concept."
   ]
  },
  {
   "cell_type": "markdown",
   "id": "1aa8aa4f",
   "metadata": {},
   "source": [
    "## 4. Data features\n",
    "\n",
    "What features does our dataset include?\n",
    "\n",
    "When looking for the dataset on *kaggle* we can see what data does each of the 14 features record.\n",
    "\n",
    "**Features:**\n",
    "* age - age in years\n",
    "* sex - classified binary:\n",
    "    * 0: female\n",
    "    * 1: male\n",
    "* cp - cp stands for chest pain which was categorized into 4 types:\n",
    "    * 0: Typical angina - related to a decrease in the blood supply to the heart\n",
    "    * 1: Atypical angia - not related to the heart\n",
    "    * 2: Non-anginal pain - esophageal spasms\n",
    "    * 3: Asymptomatic - not showing signs of disease\n",
    "* trestbps - resting blood pressure\n",
    "* chol - serum cholestoral in mg/dl\n",
    "* fbs - classified binary:\n",
    "    * 0: subfasting blood sugar $\\leq\\$ 120 mg/dl\n",
    "    \n",
    "    * 1: subfasting blood sugar $>$ 120 mg/dl\n",
    "* restecg - resting electrocardiographic results (classified into 3 groups):\n",
    "    * 0: Nothing to note\n",
    "    * 1: ST-T Wave abnormality\n",
    "    * 2: Possible or definite left ventricular hypertrophy\n",
    "* thalach - maximum heart rate achieved\n",
    "* exang - classified binary\n",
    "    * 0: Without excercise induced angina\n",
    "    * 1: With excercise induced angina\n",
    "* oldpeak - ST depression induced by exercise relative to rest\n",
    "* slope - the slope of the peak exercise ST segment (classified into 3 groups):\n",
    "    * 0: Upsloping\n",
    "    * 1: Flatsloping\n",
    "    * 2: Downsloping\n",
    "* ca - number of major vessels (0-3) colored by flourosopy\n",
    "* thal - thalium stress result\n",
    "* target - classified binary:\n",
    "    * 0: Without heart disease\n",
    "    * 1: With heart disease"
   ]
  },
  {
   "cell_type": "markdown",
   "id": "b4877b0b",
   "metadata": {},
   "source": [
    "## 5. Tools"
   ]
  },
  {
   "cell_type": "code",
   "execution_count": 170,
   "id": "029ea42c",
   "metadata": {},
   "outputs": [],
   "source": [
    "# Standard imports (data analysis and manipulation)\n",
    "import pandas as pd\n",
    "import numpy as np\n",
    "import matplotlib.pyplot as plt\n",
    "import seaborn as sns\n",
    "%matplotlib inline \n",
    "\n",
    "# Machine learning models\n",
    "from sklearn.linear_model import LogisticRegression\n",
    "from sklearn.neighbors import KNeighborsClassifier\n",
    "from sklearn.ensemble import RandomForestClassifier\n",
    "\n",
    "# Parameter and hyperparameter management imports\n",
    "from sklearn.model_selection import train_test_split, cross_val_score\n",
    "from sklearn.model_selection import RandomizedSearchCV, GridSearchCV\n",
    "\n",
    "# Evaluation metrics\n",
    "from sklearn.metrics import confusion_matrix, classification_report\n",
    "from sklearn.metrics import precision_score, recall_score, f1_score\n",
    "from sklearn.metrics import plot_roc_curve\n",
    "\n",
    "# Style\n",
    "from jupyterthemes import jtplot\n",
    "jtplot.style()"
   ]
  },
  {
   "cell_type": "markdown",
   "id": "069b107d",
   "metadata": {},
   "source": [
    "## 6. Exploratory Data Analysis\n",
    "\n",
    "Exploring our dataset allows us to feed the model cleaner data that allows it to find patterns with greater ease. On our data we might consider looking for the following:\n",
    "\n",
    "1. Data types\n",
    "2. Missing values\n",
    "3. Outliers\n",
    "4. Adding, changing or removing features\n",
    "5. Balance"
   ]
  },
  {
   "cell_type": "code",
   "execution_count": 115,
   "id": "fac286c5",
   "metadata": {},
   "outputs": [],
   "source": [
    "df = pd.read_csv(\"data/heart-disease.csv\")"
   ]
  },
  {
   "cell_type": "code",
   "execution_count": 116,
   "id": "bf8995b0",
   "metadata": {},
   "outputs": [
    {
     "data": {
      "text/plain": [
       "(303, 14)"
      ]
     },
     "execution_count": 116,
     "metadata": {},
     "output_type": "execute_result"
    }
   ],
   "source": [
    "df.shape"
   ]
  },
  {
   "cell_type": "markdown",
   "id": "d87ba753",
   "metadata": {},
   "source": [
    "From the shape we can observe that the data is stored in a 2-dimensional matrix,  consisting of 303 rows and 14 columns."
   ]
  },
  {
   "cell_type": "code",
   "execution_count": 117,
   "id": "133b1311",
   "metadata": {},
   "outputs": [
    {
     "data": {
      "text/html": [
       "<div>\n",
       "<style scoped>\n",
       "    .dataframe tbody tr th:only-of-type {\n",
       "        vertical-align: middle;\n",
       "    }\n",
       "\n",
       "    .dataframe tbody tr th {\n",
       "        vertical-align: top;\n",
       "    }\n",
       "\n",
       "    .dataframe thead th {\n",
       "        text-align: right;\n",
       "    }\n",
       "</style>\n",
       "<table border=\"1\" class=\"dataframe\">\n",
       "  <thead>\n",
       "    <tr style=\"text-align: right;\">\n",
       "      <th></th>\n",
       "      <th>age</th>\n",
       "      <th>sex</th>\n",
       "      <th>cp</th>\n",
       "      <th>trestbps</th>\n",
       "      <th>chol</th>\n",
       "      <th>fbs</th>\n",
       "      <th>restecg</th>\n",
       "      <th>thalach</th>\n",
       "      <th>exang</th>\n",
       "      <th>oldpeak</th>\n",
       "      <th>slope</th>\n",
       "      <th>ca</th>\n",
       "      <th>thal</th>\n",
       "      <th>target</th>\n",
       "    </tr>\n",
       "  </thead>\n",
       "  <tbody>\n",
       "    <tr>\n",
       "      <th>0</th>\n",
       "      <td>63</td>\n",
       "      <td>1</td>\n",
       "      <td>3</td>\n",
       "      <td>145</td>\n",
       "      <td>233</td>\n",
       "      <td>1</td>\n",
       "      <td>0</td>\n",
       "      <td>150</td>\n",
       "      <td>0</td>\n",
       "      <td>2.3</td>\n",
       "      <td>0</td>\n",
       "      <td>0</td>\n",
       "      <td>1</td>\n",
       "      <td>1</td>\n",
       "    </tr>\n",
       "    <tr>\n",
       "      <th>1</th>\n",
       "      <td>37</td>\n",
       "      <td>1</td>\n",
       "      <td>2</td>\n",
       "      <td>130</td>\n",
       "      <td>250</td>\n",
       "      <td>0</td>\n",
       "      <td>1</td>\n",
       "      <td>187</td>\n",
       "      <td>0</td>\n",
       "      <td>3.5</td>\n",
       "      <td>0</td>\n",
       "      <td>0</td>\n",
       "      <td>2</td>\n",
       "      <td>1</td>\n",
       "    </tr>\n",
       "    <tr>\n",
       "      <th>2</th>\n",
       "      <td>41</td>\n",
       "      <td>0</td>\n",
       "      <td>1</td>\n",
       "      <td>130</td>\n",
       "      <td>204</td>\n",
       "      <td>0</td>\n",
       "      <td>0</td>\n",
       "      <td>172</td>\n",
       "      <td>0</td>\n",
       "      <td>1.4</td>\n",
       "      <td>2</td>\n",
       "      <td>0</td>\n",
       "      <td>2</td>\n",
       "      <td>1</td>\n",
       "    </tr>\n",
       "    <tr>\n",
       "      <th>3</th>\n",
       "      <td>56</td>\n",
       "      <td>1</td>\n",
       "      <td>1</td>\n",
       "      <td>120</td>\n",
       "      <td>236</td>\n",
       "      <td>0</td>\n",
       "      <td>1</td>\n",
       "      <td>178</td>\n",
       "      <td>0</td>\n",
       "      <td>0.8</td>\n",
       "      <td>2</td>\n",
       "      <td>0</td>\n",
       "      <td>2</td>\n",
       "      <td>1</td>\n",
       "    </tr>\n",
       "    <tr>\n",
       "      <th>4</th>\n",
       "      <td>57</td>\n",
       "      <td>0</td>\n",
       "      <td>0</td>\n",
       "      <td>120</td>\n",
       "      <td>354</td>\n",
       "      <td>0</td>\n",
       "      <td>1</td>\n",
       "      <td>163</td>\n",
       "      <td>1</td>\n",
       "      <td>0.6</td>\n",
       "      <td>2</td>\n",
       "      <td>0</td>\n",
       "      <td>2</td>\n",
       "      <td>1</td>\n",
       "    </tr>\n",
       "  </tbody>\n",
       "</table>\n",
       "</div>"
      ],
      "text/plain": [
       "   age  sex  cp  trestbps  chol  fbs  restecg  thalach  exang  oldpeak  slope  \\\n",
       "0   63    1   3       145   233    1        0      150      0      2.3      0   \n",
       "1   37    1   2       130   250    0        1      187      0      3.5      0   \n",
       "2   41    0   1       130   204    0        0      172      0      1.4      2   \n",
       "3   56    1   1       120   236    0        1      178      0      0.8      2   \n",
       "4   57    0   0       120   354    0        1      163      1      0.6      2   \n",
       "\n",
       "   ca  thal  target  \n",
       "0   0     1       1  \n",
       "1   0     2       1  \n",
       "2   0     2       1  \n",
       "3   0     2       1  \n",
       "4   0     2       1  "
      ]
     },
     "execution_count": 117,
     "metadata": {},
     "output_type": "execute_result"
    }
   ],
   "source": [
    "df.head()"
   ]
  },
  {
   "cell_type": "markdown",
   "id": "3df4a4b8",
   "metadata": {},
   "source": [
    "The `head()` function allows us to see the first 5 rows of our dataframe. Here we can see that the rows correspond to subjects and the columns include the features of our data."
   ]
  },
  {
   "cell_type": "code",
   "execution_count": 118,
   "id": "1fd8616a",
   "metadata": {},
   "outputs": [
    {
     "data": {
      "text/html": [
       "<div>\n",
       "<style scoped>\n",
       "    .dataframe tbody tr th:only-of-type {\n",
       "        vertical-align: middle;\n",
       "    }\n",
       "\n",
       "    .dataframe tbody tr th {\n",
       "        vertical-align: top;\n",
       "    }\n",
       "\n",
       "    .dataframe thead th {\n",
       "        text-align: right;\n",
       "    }\n",
       "</style>\n",
       "<table border=\"1\" class=\"dataframe\">\n",
       "  <thead>\n",
       "    <tr style=\"text-align: right;\">\n",
       "      <th></th>\n",
       "      <th>age</th>\n",
       "      <th>sex</th>\n",
       "      <th>cp</th>\n",
       "      <th>trestbps</th>\n",
       "      <th>chol</th>\n",
       "      <th>fbs</th>\n",
       "      <th>restecg</th>\n",
       "      <th>thalach</th>\n",
       "      <th>exang</th>\n",
       "      <th>oldpeak</th>\n",
       "      <th>slope</th>\n",
       "      <th>ca</th>\n",
       "      <th>thal</th>\n",
       "      <th>target</th>\n",
       "    </tr>\n",
       "  </thead>\n",
       "  <tbody>\n",
       "    <tr>\n",
       "      <th>298</th>\n",
       "      <td>57</td>\n",
       "      <td>0</td>\n",
       "      <td>0</td>\n",
       "      <td>140</td>\n",
       "      <td>241</td>\n",
       "      <td>0</td>\n",
       "      <td>1</td>\n",
       "      <td>123</td>\n",
       "      <td>1</td>\n",
       "      <td>0.2</td>\n",
       "      <td>1</td>\n",
       "      <td>0</td>\n",
       "      <td>3</td>\n",
       "      <td>0</td>\n",
       "    </tr>\n",
       "    <tr>\n",
       "      <th>299</th>\n",
       "      <td>45</td>\n",
       "      <td>1</td>\n",
       "      <td>3</td>\n",
       "      <td>110</td>\n",
       "      <td>264</td>\n",
       "      <td>0</td>\n",
       "      <td>1</td>\n",
       "      <td>132</td>\n",
       "      <td>0</td>\n",
       "      <td>1.2</td>\n",
       "      <td>1</td>\n",
       "      <td>0</td>\n",
       "      <td>3</td>\n",
       "      <td>0</td>\n",
       "    </tr>\n",
       "    <tr>\n",
       "      <th>300</th>\n",
       "      <td>68</td>\n",
       "      <td>1</td>\n",
       "      <td>0</td>\n",
       "      <td>144</td>\n",
       "      <td>193</td>\n",
       "      <td>1</td>\n",
       "      <td>1</td>\n",
       "      <td>141</td>\n",
       "      <td>0</td>\n",
       "      <td>3.4</td>\n",
       "      <td>1</td>\n",
       "      <td>2</td>\n",
       "      <td>3</td>\n",
       "      <td>0</td>\n",
       "    </tr>\n",
       "    <tr>\n",
       "      <th>301</th>\n",
       "      <td>57</td>\n",
       "      <td>1</td>\n",
       "      <td>0</td>\n",
       "      <td>130</td>\n",
       "      <td>131</td>\n",
       "      <td>0</td>\n",
       "      <td>1</td>\n",
       "      <td>115</td>\n",
       "      <td>1</td>\n",
       "      <td>1.2</td>\n",
       "      <td>1</td>\n",
       "      <td>1</td>\n",
       "      <td>3</td>\n",
       "      <td>0</td>\n",
       "    </tr>\n",
       "    <tr>\n",
       "      <th>302</th>\n",
       "      <td>57</td>\n",
       "      <td>0</td>\n",
       "      <td>1</td>\n",
       "      <td>130</td>\n",
       "      <td>236</td>\n",
       "      <td>0</td>\n",
       "      <td>0</td>\n",
       "      <td>174</td>\n",
       "      <td>0</td>\n",
       "      <td>0.0</td>\n",
       "      <td>1</td>\n",
       "      <td>1</td>\n",
       "      <td>2</td>\n",
       "      <td>0</td>\n",
       "    </tr>\n",
       "  </tbody>\n",
       "</table>\n",
       "</div>"
      ],
      "text/plain": [
       "     age  sex  cp  trestbps  chol  fbs  restecg  thalach  exang  oldpeak  \\\n",
       "298   57    0   0       140   241    0        1      123      1      0.2   \n",
       "299   45    1   3       110   264    0        1      132      0      1.2   \n",
       "300   68    1   0       144   193    1        1      141      0      3.4   \n",
       "301   57    1   0       130   131    0        1      115      1      1.2   \n",
       "302   57    0   1       130   236    0        0      174      0      0.0   \n",
       "\n",
       "     slope  ca  thal  target  \n",
       "298      1   0     3       0  \n",
       "299      1   0     3       0  \n",
       "300      1   2     3       0  \n",
       "301      1   1     3       0  \n",
       "302      1   1     2       0  "
      ]
     },
     "execution_count": 118,
     "metadata": {},
     "output_type": "execute_result"
    }
   ],
   "source": [
    "df.tail()"
   ]
  },
  {
   "cell_type": "markdown",
   "id": "5315407c",
   "metadata": {},
   "source": [
    "The `tail()` function shows the last 5 rows of the dataframe."
   ]
  },
  {
   "cell_type": "code",
   "execution_count": 119,
   "id": "f2a1817f",
   "metadata": {},
   "outputs": [
    {
     "data": {
      "text/plain": [
       "1    165\n",
       "0    138\n",
       "Name: target, dtype: int64"
      ]
     },
     "execution_count": 119,
     "metadata": {},
     "output_type": "execute_result"
    }
   ],
   "source": [
    "df[\"target\"].value_counts()"
   ]
  },
  {
   "cell_type": "markdown",
   "id": "dbf4d95b",
   "metadata": {},
   "source": [
    "The `value_counts()` function allows us to see how many values does a feature have, and shows us how many times they are repeated. Our dataset contains 165 subjects with heart disease and 138 subjects without heart disease. \n",
    "\n",
    "Having a balanced amount of examples from each category might make it easier for our model to identify patterns.\n",
    "\n",
    "It might be helpful to look at a plot that contains this information:"
   ]
  },
  {
   "cell_type": "code",
   "execution_count": 120,
   "id": "6ba529fe",
   "metadata": {},
   "outputs": [
    {
     "data": {
      "image/png": "[encoded data removed]",
      "text/plain": [
       "<Figure size 460.8x403.2 with 1 Axes>"
      ]
     },
     "metadata": {},
     "output_type": "display_data"
    }
   ],
   "source": [
    "fig, ax = plt.subplots()\n",
    "ax = df[\"target\"].value_counts().plot(kind=\"bar\", color=[\"salmon\", \"lightblue\"])\n",
    "ax.set(title=\"Subjects with heart disease and without heart disease\",\n",
    "       xlabel=\"Heart disease\",\n",
    "       ylabel=\"Amount of subjects\")\n",
    "plt.xticks(rotation=0)\n",
    "plt.grid(False);"
   ]
  },
  {
   "cell_type": "code",
   "execution_count": 121,
   "id": "2e6762bf",
   "metadata": {},
   "outputs": [
    {
     "name": "stdout",
     "output_type": "stream",
     "text": [
      "<class 'pandas.core.frame.DataFrame'>\n",
      "RangeIndex: 303 entries, 0 to 302\n",
      "Data columns (total 14 columns):\n",
      " #   Column    Non-Null Count  Dtype  \n",
      "---  ------    --------------  -----  \n",
      " 0   age       303 non-null    int64  \n",
      " 1   sex       303 non-null    int64  \n",
      " 2   cp        303 non-null    int64  \n",
      " 3   trestbps  303 non-null    int64  \n",
      " 4   chol      303 non-null    int64  \n",
      " 5   fbs       303 non-null    int64  \n",
      " 6   restecg   303 non-null    int64  \n",
      " 7   thalach   303 non-null    int64  \n",
      " 8   exang     303 non-null    int64  \n",
      " 9   oldpeak   303 non-null    float64\n",
      " 10  slope     303 non-null    int64  \n",
      " 11  ca        303 non-null    int64  \n",
      " 12  thal      303 non-null    int64  \n",
      " 13  target    303 non-null    int64  \n",
      "dtypes: float64(1), int64(13)\n",
      "memory usage: 33.3 KB\n"
     ]
    }
   ],
   "source": [
    "df.info()"
   ]
  },
  {
   "cell_type": "markdown",
   "id": "9fc9eb52",
   "metadata": {},
   "source": [
    "The `info()` function allows us to look at the features (columns) of our dataframe and see the data types they contain."
   ]
  },
  {
   "cell_type": "code",
   "execution_count": 122,
   "id": "4d09a2f4",
   "metadata": {},
   "outputs": [
    {
     "data": {
      "text/plain": [
       "age         0\n",
       "sex         0\n",
       "cp          0\n",
       "trestbps    0\n",
       "chol        0\n",
       "fbs         0\n",
       "restecg     0\n",
       "thalach     0\n",
       "exang       0\n",
       "oldpeak     0\n",
       "slope       0\n",
       "ca          0\n",
       "thal        0\n",
       "target      0\n",
       "dtype: int64"
      ]
     },
     "execution_count": 122,
     "metadata": {},
     "output_type": "execute_result"
    }
   ],
   "source": [
    "df.isna().sum()"
   ]
  },
  {
   "cell_type": "markdown",
   "id": "8c31be81",
   "metadata": {},
   "source": [
    "The `isna()` function will check if there are missing values in the dataframe and the `sum()` function will add up all the times this occured, for us to see how many missing values there are. As we can see all features have no missing values."
   ]
  },
  {
   "cell_type": "code",
   "execution_count": 123,
   "id": "ee46ae3f",
   "metadata": {},
   "outputs": [
    {
     "data": {
      "text/html": [
       "<div>\n",
       "<style scoped>\n",
       "    .dataframe tbody tr th:only-of-type {\n",
       "        vertical-align: middle;\n",
       "    }\n",
       "\n",
       "    .dataframe tbody tr th {\n",
       "        vertical-align: top;\n",
       "    }\n",
       "\n",
       "    .dataframe thead th {\n",
       "        text-align: right;\n",
       "    }\n",
       "</style>\n",
       "<table border=\"1\" class=\"dataframe\">\n",
       "  <thead>\n",
       "    <tr style=\"text-align: right;\">\n",
       "      <th></th>\n",
       "      <th>age</th>\n",
       "      <th>sex</th>\n",
       "      <th>cp</th>\n",
       "      <th>trestbps</th>\n",
       "      <th>chol</th>\n",
       "      <th>fbs</th>\n",
       "      <th>restecg</th>\n",
       "      <th>thalach</th>\n",
       "      <th>exang</th>\n",
       "      <th>oldpeak</th>\n",
       "      <th>slope</th>\n",
       "      <th>ca</th>\n",
       "      <th>thal</th>\n",
       "      <th>target</th>\n",
       "    </tr>\n",
       "  </thead>\n",
       "  <tbody>\n",
       "    <tr>\n",
       "      <th>count</th>\n",
       "      <td>303.000000</td>\n",
       "      <td>303.000000</td>\n",
       "      <td>303.000000</td>\n",
       "      <td>303.000000</td>\n",
       "      <td>303.000000</td>\n",
       "      <td>303.000000</td>\n",
       "      <td>303.000000</td>\n",
       "      <td>303.000000</td>\n",
       "      <td>303.000000</td>\n",
       "      <td>303.000000</td>\n",
       "      <td>303.000000</td>\n",
       "      <td>303.000000</td>\n",
       "      <td>303.000000</td>\n",
       "      <td>303.000000</td>\n",
       "    </tr>\n",
       "    <tr>\n",
       "      <th>mean</th>\n",
       "      <td>54.366337</td>\n",
       "      <td>0.683168</td>\n",
       "      <td>0.966997</td>\n",
       "      <td>131.623762</td>\n",
       "      <td>246.264026</td>\n",
       "      <td>0.148515</td>\n",
       "      <td>0.528053</td>\n",
       "      <td>149.646865</td>\n",
       "      <td>0.326733</td>\n",
       "      <td>1.039604</td>\n",
       "      <td>1.399340</td>\n",
       "      <td>0.729373</td>\n",
       "      <td>2.313531</td>\n",
       "      <td>0.544554</td>\n",
       "    </tr>\n",
       "    <tr>\n",
       "      <th>std</th>\n",
       "      <td>9.082101</td>\n",
       "      <td>0.466011</td>\n",
       "      <td>1.032052</td>\n",
       "      <td>17.538143</td>\n",
       "      <td>51.830751</td>\n",
       "      <td>0.356198</td>\n",
       "      <td>0.525860</td>\n",
       "      <td>22.905161</td>\n",
       "      <td>0.469794</td>\n",
       "      <td>1.161075</td>\n",
       "      <td>0.616226</td>\n",
       "      <td>1.022606</td>\n",
       "      <td>0.612277</td>\n",
       "      <td>0.498835</td>\n",
       "    </tr>\n",
       "    <tr>\n",
       "      <th>min</th>\n",
       "      <td>29.000000</td>\n",
       "      <td>0.000000</td>\n",
       "      <td>0.000000</td>\n",
       "      <td>94.000000</td>\n",
       "      <td>126.000000</td>\n",
       "      <td>0.000000</td>\n",
       "      <td>0.000000</td>\n",
       "      <td>71.000000</td>\n",
       "      <td>0.000000</td>\n",
       "      <td>0.000000</td>\n",
       "      <td>0.000000</td>\n",
       "      <td>0.000000</td>\n",
       "      <td>0.000000</td>\n",
       "      <td>0.000000</td>\n",
       "    </tr>\n",
       "    <tr>\n",
       "      <th>25%</th>\n",
       "      <td>47.500000</td>\n",
       "      <td>0.000000</td>\n",
       "      <td>0.000000</td>\n",
       "      <td>120.000000</td>\n",
       "      <td>211.000000</td>\n",
       "      <td>0.000000</td>\n",
       "      <td>0.000000</td>\n",
       "      <td>133.500000</td>\n",
       "      <td>0.000000</td>\n",
       "      <td>0.000000</td>\n",
       "      <td>1.000000</td>\n",
       "      <td>0.000000</td>\n",
       "      <td>2.000000</td>\n",
       "      <td>0.000000</td>\n",
       "    </tr>\n",
       "    <tr>\n",
       "      <th>50%</th>\n",
       "      <td>55.000000</td>\n",
       "      <td>1.000000</td>\n",
       "      <td>1.000000</td>\n",
       "      <td>130.000000</td>\n",
       "      <td>240.000000</td>\n",
       "      <td>0.000000</td>\n",
       "      <td>1.000000</td>\n",
       "      <td>153.000000</td>\n",
       "      <td>0.000000</td>\n",
       "      <td>0.800000</td>\n",
       "      <td>1.000000</td>\n",
       "      <td>0.000000</td>\n",
       "      <td>2.000000</td>\n",
       "      <td>1.000000</td>\n",
       "    </tr>\n",
       "    <tr>\n",
       "      <th>75%</th>\n",
       "      <td>61.000000</td>\n",
       "      <td>1.000000</td>\n",
       "      <td>2.000000</td>\n",
       "      <td>140.000000</td>\n",
       "      <td>274.500000</td>\n",
       "      <td>0.000000</td>\n",
       "      <td>1.000000</td>\n",
       "      <td>166.000000</td>\n",
       "      <td>1.000000</td>\n",
       "      <td>1.600000</td>\n",
       "      <td>2.000000</td>\n",
       "      <td>1.000000</td>\n",
       "      <td>3.000000</td>\n",
       "      <td>1.000000</td>\n",
       "    </tr>\n",
       "    <tr>\n",
       "      <th>max</th>\n",
       "      <td>77.000000</td>\n",
       "      <td>1.000000</td>\n",
       "      <td>3.000000</td>\n",
       "      <td>200.000000</td>\n",
       "      <td>564.000000</td>\n",
       "      <td>1.000000</td>\n",
       "      <td>2.000000</td>\n",
       "      <td>202.000000</td>\n",
       "      <td>1.000000</td>\n",
       "      <td>6.200000</td>\n",
       "      <td>2.000000</td>\n",
       "      <td>4.000000</td>\n",
       "      <td>3.000000</td>\n",
       "      <td>1.000000</td>\n",
       "    </tr>\n",
       "  </tbody>\n",
       "</table>\n",
       "</div>"
      ],
      "text/plain": [
       "              age         sex          cp    trestbps        chol         fbs  \\\n",
       "count  303.000000  303.000000  303.000000  303.000000  303.000000  303.000000   \n",
       "mean    54.366337    0.683168    0.966997  131.623762  246.264026    0.148515   \n",
       "std      9.082101    0.466011    1.032052   17.538143   51.830751    0.356198   \n",
       "min     29.000000    0.000000    0.000000   94.000000  126.000000    0.000000   \n",
       "25%     47.500000    0.000000    0.000000  120.000000  211.000000    0.000000   \n",
       "50%     55.000000    1.000000    1.000000  130.000000  240.000000    0.000000   \n",
       "75%     61.000000    1.000000    2.000000  140.000000  274.500000    0.000000   \n",
       "max     77.000000    1.000000    3.000000  200.000000  564.000000    1.000000   \n",
       "\n",
       "          restecg     thalach       exang     oldpeak       slope          ca  \\\n",
       "count  303.000000  303.000000  303.000000  303.000000  303.000000  303.000000   \n",
       "mean     0.528053  149.646865    0.326733    1.039604    1.399340    0.729373   \n",
       "std      0.525860   22.905161    0.469794    1.161075    0.616226    1.022606   \n",
       "min      0.000000   71.000000    0.000000    0.000000    0.000000    0.000000   \n",
       "25%      0.000000  133.500000    0.000000    0.000000    1.000000    0.000000   \n",
       "50%      1.000000  153.000000    0.000000    0.800000    1.000000    0.000000   \n",
       "75%      1.000000  166.000000    1.000000    1.600000    2.000000    1.000000   \n",
       "max      2.000000  202.000000    1.000000    6.200000    2.000000    4.000000   \n",
       "\n",
       "             thal      target  \n",
       "count  303.000000  303.000000  \n",
       "mean     2.313531    0.544554  \n",
       "std      0.612277    0.498835  \n",
       "min      0.000000    0.000000  \n",
       "25%      2.000000    0.000000  \n",
       "50%      2.000000    1.000000  \n",
       "75%      3.000000    1.000000  \n",
       "max      3.000000    1.000000  "
      ]
     },
     "execution_count": 123,
     "metadata": {},
     "output_type": "execute_result"
    }
   ],
   "source": [
    "df.describe()"
   ]
  },
  {
   "cell_type": "markdown",
   "id": "672bf8d9",
   "metadata": {},
   "source": [
    "The `describe()` function will show us the following information about each feature:\n",
    "* The amount of values it contains\n",
    "* The mean\n",
    "* The standard deviation (std)\n",
    "* The minimum value (min)\n",
    "* The value of the first quartile (25%)\n",
    "* The value of the median (50%)\n",
    "* The value of the third quartile (75%)\n",
    "* The maximum value."
   ]
  },
  {
   "cell_type": "markdown",
   "id": "c39d7539",
   "metadata": {},
   "source": [
    "**Sex Frequency**"
   ]
  },
  {
   "cell_type": "code",
   "execution_count": 124,
   "id": "13c926ab",
   "metadata": {},
   "outputs": [
    {
     "data": {
      "text/plain": [
       "1    207\n",
       "0     96\n",
       "Name: sex, dtype: int64"
      ]
     },
     "execution_count": 124,
     "metadata": {},
     "output_type": "execute_result"
    }
   ],
   "source": [
    "df[\"sex\"].value_counts()"
   ]
  },
  {
   "cell_type": "markdown",
   "id": "ea4095b9",
   "metadata": {},
   "source": [
    "As stated in the data features, a `1` represents a male subject and a `0` represents a female subject. By using `value_counts()` we can see that there are more males than females in our data."
   ]
  },
  {
   "cell_type": "markdown",
   "id": "375b4927",
   "metadata": {},
   "source": [
    "**Heart Disease Frequency according to Sex**"
   ]
  },
  {
   "cell_type": "code",
   "execution_count": 125,
   "id": "9976b550",
   "metadata": {},
   "outputs": [
    {
     "data": {
      "text/html": [
       "<div>\n",
       "<style scoped>\n",
       "    .dataframe tbody tr th:only-of-type {\n",
       "        vertical-align: middle;\n",
       "    }\n",
       "\n",
       "    .dataframe tbody tr th {\n",
       "        vertical-align: top;\n",
       "    }\n",
       "\n",
       "    .dataframe thead th {\n",
       "        text-align: right;\n",
       "    }\n",
       "</style>\n",
       "<table border=\"1\" class=\"dataframe\">\n",
       "  <thead>\n",
       "    <tr style=\"text-align: right;\">\n",
       "      <th>sex</th>\n",
       "      <th>0</th>\n",
       "      <th>1</th>\n",
       "    </tr>\n",
       "    <tr>\n",
       "      <th>target</th>\n",
       "      <th></th>\n",
       "      <th></th>\n",
       "    </tr>\n",
       "  </thead>\n",
       "  <tbody>\n",
       "    <tr>\n",
       "      <th>0</th>\n",
       "      <td>24</td>\n",
       "      <td>114</td>\n",
       "    </tr>\n",
       "    <tr>\n",
       "      <th>1</th>\n",
       "      <td>72</td>\n",
       "      <td>93</td>\n",
       "    </tr>\n",
       "  </tbody>\n",
       "</table>\n",
       "</div>"
      ],
      "text/plain": [
       "sex      0    1\n",
       "target         \n",
       "0       24  114\n",
       "1       72   93"
      ]
     },
     "execution_count": 125,
     "metadata": {},
     "output_type": "execute_result"
    }
   ],
   "source": [
    "pd.crosstab(df[\"target\"], df[\"sex\"])"
   ]
  },
  {
   "cell_type": "markdown",
   "id": "e6655ca3",
   "metadata": {},
   "source": [
    "The matrix shown above, obtained with pandas `crosstab()` function allows us to see how many males and how many females in the dataset had heart disease and how many did not."
   ]
  },
  {
   "cell_type": "markdown",
   "id": "04f74e43",
   "metadata": {},
   "source": [
    "**Matrix observations**\n",
    "\n",
    "<b>*Females*</b>\n",
    "\n",
    "$72$ females had heart disease and $24$ did **not** have herat disease.\n",
    "\n",
    "$\\frac{24}{24+72}\\ \\times\\ 100 \\% = 25 \\%$ of the female subjects in the dataset did **not** have herat disease.\n",
    "\n",
    "Therefore $75 \\%$ of the females did have heart disease.\n",
    "\n",
    "<b>*Males*</b>\n",
    "\n",
    "$93$ males had heart disease while $114$ did **not** have heart disease.\n",
    "\n",
    "$\\frac{114}{114+93}\\ \\times\\ 100 \\% \\approx\\ 55.1 \\%$ of the male subjects in the dataset did **not** have heart disease.\n",
    "\n",
    "Therefore approximately $44.9 \\%$ of the males did have heart disease.\n",
    "\n",
    "**Some analysis**\n",
    "\n",
    "From this proportions a machine learning model might be more likely to predict females as positive for heart disease, even if the other features might indicate the opposite, due to the fact that the training data contains more woman with heart disease than without and the model might give a lot of weight to the sex value."
   ]
  },
  {
   "cell_type": "markdown",
   "id": "d8a9751e",
   "metadata": {},
   "source": [
    "**Visual intuition for the reader**"
   ]
  },
  {
   "cell_type": "code",
   "execution_count": 126,
   "id": "2556ea43",
   "metadata": {},
   "outputs": [
    {
     "data": {
      "image/png": "[encoded data removed]",
      "text/plain": [
       "<Figure size 460.8x403.2 with 1 Axes>"
      ]
     },
     "metadata": {},
     "output_type": "display_data"
    }
   ],
   "source": [
    "ax = pd.crosstab(df[\"target\"], df[\"sex\"]).plot(kind=\"bar\", color=[\"salmon\", \"lightblue\"])\n",
    "ax.set(title=\"Heart Disease Frequency according to Sex\",\n",
    "       xlabel=\"Heart disease\",\n",
    "       ylabel=\"Amount of subjects\")\n",
    "ax.legend([\"Female\", \"Male\"])\n",
    "plt.xticks(rotation=0)\n",
    "plt.grid(False);"
   ]
  },
  {
   "cell_type": "markdown",
   "id": "23bf6059",
   "metadata": {},
   "source": [
    "The red (salmon) bars allow us to see the proportions of females with heart disease and females without heart disease (the red bar on the right should be exactly 3 times the size of the one on the left). The light blue bars allow us to see the same proportion for males, it is not perfectly balanced, but it is clearly more balanced."
   ]
  },
  {
   "cell_type": "markdown",
   "id": "df6be558",
   "metadata": {},
   "source": [
    "**Maximum heart rate**"
   ]
  },
  {
   "cell_type": "code",
   "execution_count": 127,
   "id": "21d766d4",
   "metadata": {},
   "outputs": [
    {
     "data": {
      "text/plain": [
       "162    11\n",
       "160     9\n",
       "163     9\n",
       "152     8\n",
       "173     8\n",
       "       ..\n",
       "202     1\n",
       "184     1\n",
       "121     1\n",
       "192     1\n",
       "90      1\n",
       "Name: thalach, Length: 91, dtype: int64"
      ]
     },
     "execution_count": 127,
     "metadata": {},
     "output_type": "execute_result"
    }
   ],
   "source": [
    "df[\"thalach\"].value_counts()"
   ]
  },
  {
   "cell_type": "markdown",
   "id": "b8fd46b0",
   "metadata": {},
   "source": [
    "On the bottom we can see `Length: 91`, this means that there are 91 different values for \"thalach\" (the maximum heart rate achieved) in our dataframe."
   ]
  },
  {
   "cell_type": "markdown",
   "id": "fd3f89d1",
   "metadata": {},
   "source": [
    "**Plotting Age vs Max Heart Rate**"
   ]
  },
  {
   "cell_type": "code",
   "execution_count": 128,
   "id": "be119579",
   "metadata": {},
   "outputs": [
    {
     "data": {
      "image/png": "[encoded data removed]",
      "text/plain": [
       "<Figure size 864x864 with 2 Axes>"
      ]
     },
     "metadata": {},
     "output_type": "display_data"
    }
   ],
   "source": [
    "fig, (ax1, ax2) = plt.subplots(nrows=2,\n",
    "                               ncols=1,\n",
    "                               figsize=(12, 12))\n",
    "\n",
    "ax1.scatter(df.age[df.target==1],\n",
    "            df.thalach[df.target==1],\n",
    "            c=\"salmon\")\n",
    "\n",
    "ax1.set(title=\"Age vs Max Heart Rate for Subjects with Heart Disease\",\n",
    "        xlabel = \"Age\",\n",
    "        ylabel = \"Max Heart Rate Achieved\")\n",
    "\n",
    "ax1.grid(False)\n",
    "\n",
    "ax2.scatter(df.age[df.target==0],\n",
    "            df.thalach[df.target==0],\n",
    "            c=\"lightblue\")\n",
    "\n",
    "ax2.set(title=\"Age vs Max Heart Rate for Subjects without Heart Disease\",\n",
    "        xlabel = \"Age\",\n",
    "        ylabel = \"Max Heart Rate Achieved\")\n",
    "\n",
    "ax2.grid(False);"
   ]
  },
  {
   "cell_type": "markdown",
   "id": "b57c4d7c",
   "metadata": {},
   "source": [
    "As one can see, there is a somewhat downward trend; thus, the data suggets that as age increases the max heart rate achieved decreases. However, this seems somewhat true for both classes (subjects with heart disease and subjects without heart disease) and the other variables should help our program cluster these groups. Let's look at both of them in a single plot..."
   ]
  },
  {
   "cell_type": "code",
   "execution_count": 129,
   "id": "2f783483",
   "metadata": {},
   "outputs": [
    {
     "data": {
      "image/png": "[encoded data removed]",
      "text/plain": [
       "<Figure size 720x360 with 1 Axes>"
      ]
     },
     "metadata": {},
     "output_type": "display_data"
    }
   ],
   "source": [
    "fig, ax = plt.subplots(figsize=(10,5))\n",
    "\n",
    "ax.scatter(df.age[df.target==1],\n",
    "            df.thalach[df.target==1],\n",
    "            c=\"salmon\")\n",
    "\n",
    "ax.scatter(df.age[df.target==0],\n",
    "            df.thalach[df.target==0],\n",
    "            c=\"lightblue\")\n",
    "\n",
    "\n",
    "ax.set(title=\"Age vs Max Heart Rate\",\n",
    "        xlabel = \"Age\",\n",
    "        ylabel = \"Max Heart Rate Achieved\")\n",
    "\n",
    "ax.legend([\"With Heart Disease\", \"Without Heart Disease\"])\n",
    "\n",
    "ax.grid(False);"
   ]
  },
  {
   "cell_type": "markdown",
   "id": "565b32a5",
   "metadata": {},
   "source": [
    "**Age distribution**"
   ]
  },
  {
   "cell_type": "code",
   "execution_count": 130,
   "id": "9542e904",
   "metadata": {},
   "outputs": [
    {
     "data": {
      "image/png": "[encoded data removed]",
      "text/plain": [
       "<Figure size 360x288 with 1 Axes>"
      ]
     },
     "metadata": {},
     "output_type": "display_data"
    }
   ],
   "source": [
    "fig, ax = plt.subplots(figsize=(5,4))\n",
    "\n",
    "ax.hist(df[\"age\"])\n",
    "\n",
    "ax.set(title=\"Age Distribution\",\n",
    "        xlabel = \"Age\",\n",
    "        ylabel = \"Frequency\")\n",
    "\n",
    "ax.grid(False);"
   ]
  },
  {
   "cell_type": "markdown",
   "id": "a2c7edf4",
   "metadata": {},
   "source": [
    "**Heart Disease Frequency per Chest Pain Type**"
   ]
  },
  {
   "cell_type": "markdown",
   "id": "3fbec795",
   "metadata": {},
   "source": [
    "From our dataset features:\n",
    "\n",
    "* cp - cp stands for chest pain which was categorized into 4 types:\n",
    "\n",
    "    * 0: Typical angina - related to a decrease in the blood supply to the heart\n",
    "    * 1: Atypical angia - not related to the heart\n",
    "    * 2: Non-anginal pain - esophageal spasms\n",
    "    * 3: Asymptomatic - not showing signs of disease"
   ]
  },
  {
   "cell_type": "code",
   "execution_count": 131,
   "id": "b7c0c2e2",
   "metadata": {},
   "outputs": [
    {
     "data": {
      "text/html": [
       "<div>\n",
       "<style scoped>\n",
       "    .dataframe tbody tr th:only-of-type {\n",
       "        vertical-align: middle;\n",
       "    }\n",
       "\n",
       "    .dataframe tbody tr th {\n",
       "        vertical-align: top;\n",
       "    }\n",
       "\n",
       "    .dataframe thead th {\n",
       "        text-align: right;\n",
       "    }\n",
       "</style>\n",
       "<table border=\"1\" class=\"dataframe\">\n",
       "  <thead>\n",
       "    <tr style=\"text-align: right;\">\n",
       "      <th>target</th>\n",
       "      <th>0</th>\n",
       "      <th>1</th>\n",
       "    </tr>\n",
       "    <tr>\n",
       "      <th>cp</th>\n",
       "      <th></th>\n",
       "      <th></th>\n",
       "    </tr>\n",
       "  </thead>\n",
       "  <tbody>\n",
       "    <tr>\n",
       "      <th>0</th>\n",
       "      <td>104</td>\n",
       "      <td>39</td>\n",
       "    </tr>\n",
       "    <tr>\n",
       "      <th>1</th>\n",
       "      <td>9</td>\n",
       "      <td>41</td>\n",
       "    </tr>\n",
       "    <tr>\n",
       "      <th>2</th>\n",
       "      <td>18</td>\n",
       "      <td>69</td>\n",
       "    </tr>\n",
       "    <tr>\n",
       "      <th>3</th>\n",
       "      <td>7</td>\n",
       "      <td>16</td>\n",
       "    </tr>\n",
       "  </tbody>\n",
       "</table>\n",
       "</div>"
      ],
      "text/plain": [
       "target    0   1\n",
       "cp             \n",
       "0       104  39\n",
       "1         9  41\n",
       "2        18  69\n",
       "3         7  16"
      ]
     },
     "execution_count": 131,
     "metadata": {},
     "output_type": "execute_result"
    }
   ],
   "source": [
    "pd.crosstab(df[\"cp\"], df[\"target\"])"
   ]
  },
  {
   "cell_type": "markdown",
   "id": "df352a09",
   "metadata": {},
   "source": [
    "The data suggests that Atypical angia and Non-anginal pain are common signs of heart disease, is this always true?\n",
    "\n",
    "Let's visualize the data..."
   ]
  },
  {
   "cell_type": "code",
   "execution_count": 132,
   "id": "47087c7f",
   "metadata": {},
   "outputs": [
    {
     "data": {
      "image/png": "[encoded data removed]",
      "text/plain": [
       "<Figure size 720x432 with 1 Axes>"
      ]
     },
     "metadata": {},
     "output_type": "display_data"
    }
   ],
   "source": [
    "ax = pd.crosstab(df[\"cp\"], df[\"target\"]).plot(kind=\"bar\",\n",
    "                                         figsize=(10, 6),\n",
    "                                         color=[\"lightblue\", \"salmon\"])\n",
    "ax.set(title=\"Heart Disease Frequency per Chest Pain Type\",\n",
    "       xlabel=\"Chest Pain Type\",\n",
    "       ylabel=\"Frequency\")\n",
    "\n",
    "ax.legend([\"No disease\", \"Disease\"])\n",
    "\n",
    "plt.xticks(rotation=0)\n",
    "\n",
    "ax.grid(False);"
   ]
  },
  {
   "cell_type": "markdown",
   "id": "2bc62799",
   "metadata": {},
   "source": [
    "**Correlation matrix**"
   ]
  },
  {
   "cell_type": "code",
   "execution_count": 133,
   "id": "96d91783",
   "metadata": {},
   "outputs": [
    {
     "data": {
      "text/html": [
       "<div>\n",
       "<style scoped>\n",
       "    .dataframe tbody tr th:only-of-type {\n",
       "        vertical-align: middle;\n",
       "    }\n",
       "\n",
       "    .dataframe tbody tr th {\n",
       "        vertical-align: top;\n",
       "    }\n",
       "\n",
       "    .dataframe thead th {\n",
       "        text-align: right;\n",
       "    }\n",
       "</style>\n",
       "<table border=\"1\" class=\"dataframe\">\n",
       "  <thead>\n",
       "    <tr style=\"text-align: right;\">\n",
       "      <th></th>\n",
       "      <th>age</th>\n",
       "      <th>sex</th>\n",
       "      <th>cp</th>\n",
       "      <th>trestbps</th>\n",
       "      <th>chol</th>\n",
       "      <th>fbs</th>\n",
       "      <th>restecg</th>\n",
       "      <th>thalach</th>\n",
       "      <th>exang</th>\n",
       "      <th>oldpeak</th>\n",
       "      <th>slope</th>\n",
       "      <th>ca</th>\n",
       "      <th>thal</th>\n",
       "      <th>target</th>\n",
       "    </tr>\n",
       "  </thead>\n",
       "  <tbody>\n",
       "    <tr>\n",
       "      <th>age</th>\n",
       "      <td>1.000000</td>\n",
       "      <td>-0.098447</td>\n",
       "      <td>-0.068653</td>\n",
       "      <td>0.279351</td>\n",
       "      <td>0.213678</td>\n",
       "      <td>0.121308</td>\n",
       "      <td>-0.116211</td>\n",
       "      <td>-0.398522</td>\n",
       "      <td>0.096801</td>\n",
       "      <td>0.210013</td>\n",
       "      <td>-0.168814</td>\n",
       "      <td>0.276326</td>\n",
       "      <td>0.068001</td>\n",
       "      <td>-0.225439</td>\n",
       "    </tr>\n",
       "    <tr>\n",
       "      <th>sex</th>\n",
       "      <td>-0.098447</td>\n",
       "      <td>1.000000</td>\n",
       "      <td>-0.049353</td>\n",
       "      <td>-0.056769</td>\n",
       "      <td>-0.197912</td>\n",
       "      <td>0.045032</td>\n",
       "      <td>-0.058196</td>\n",
       "      <td>-0.044020</td>\n",
       "      <td>0.141664</td>\n",
       "      <td>0.096093</td>\n",
       "      <td>-0.030711</td>\n",
       "      <td>0.118261</td>\n",
       "      <td>0.210041</td>\n",
       "      <td>-0.280937</td>\n",
       "    </tr>\n",
       "    <tr>\n",
       "      <th>cp</th>\n",
       "      <td>-0.068653</td>\n",
       "      <td>-0.049353</td>\n",
       "      <td>1.000000</td>\n",
       "      <td>0.047608</td>\n",
       "      <td>-0.076904</td>\n",
       "      <td>0.094444</td>\n",
       "      <td>0.044421</td>\n",
       "      <td>0.295762</td>\n",
       "      <td>-0.394280</td>\n",
       "      <td>-0.149230</td>\n",
       "      <td>0.119717</td>\n",
       "      <td>-0.181053</td>\n",
       "      <td>-0.161736</td>\n",
       "      <td>0.433798</td>\n",
       "    </tr>\n",
       "    <tr>\n",
       "      <th>trestbps</th>\n",
       "      <td>0.279351</td>\n",
       "      <td>-0.056769</td>\n",
       "      <td>0.047608</td>\n",
       "      <td>1.000000</td>\n",
       "      <td>0.123174</td>\n",
       "      <td>0.177531</td>\n",
       "      <td>-0.114103</td>\n",
       "      <td>-0.046698</td>\n",
       "      <td>0.067616</td>\n",
       "      <td>0.193216</td>\n",
       "      <td>-0.121475</td>\n",
       "      <td>0.101389</td>\n",
       "      <td>0.062210</td>\n",
       "      <td>-0.144931</td>\n",
       "    </tr>\n",
       "    <tr>\n",
       "      <th>chol</th>\n",
       "      <td>0.213678</td>\n",
       "      <td>-0.197912</td>\n",
       "      <td>-0.076904</td>\n",
       "      <td>0.123174</td>\n",
       "      <td>1.000000</td>\n",
       "      <td>0.013294</td>\n",
       "      <td>-0.151040</td>\n",
       "      <td>-0.009940</td>\n",
       "      <td>0.067023</td>\n",
       "      <td>0.053952</td>\n",
       "      <td>-0.004038</td>\n",
       "      <td>0.070511</td>\n",
       "      <td>0.098803</td>\n",
       "      <td>-0.085239</td>\n",
       "    </tr>\n",
       "    <tr>\n",
       "      <th>fbs</th>\n",
       "      <td>0.121308</td>\n",
       "      <td>0.045032</td>\n",
       "      <td>0.094444</td>\n",
       "      <td>0.177531</td>\n",
       "      <td>0.013294</td>\n",
       "      <td>1.000000</td>\n",
       "      <td>-0.084189</td>\n",
       "      <td>-0.008567</td>\n",
       "      <td>0.025665</td>\n",
       "      <td>0.005747</td>\n",
       "      <td>-0.059894</td>\n",
       "      <td>0.137979</td>\n",
       "      <td>-0.032019</td>\n",
       "      <td>-0.028046</td>\n",
       "    </tr>\n",
       "    <tr>\n",
       "      <th>restecg</th>\n",
       "      <td>-0.116211</td>\n",
       "      <td>-0.058196</td>\n",
       "      <td>0.044421</td>\n",
       "      <td>-0.114103</td>\n",
       "      <td>-0.151040</td>\n",
       "      <td>-0.084189</td>\n",
       "      <td>1.000000</td>\n",
       "      <td>0.044123</td>\n",
       "      <td>-0.070733</td>\n",
       "      <td>-0.058770</td>\n",
       "      <td>0.093045</td>\n",
       "      <td>-0.072042</td>\n",
       "      <td>-0.011981</td>\n",
       "      <td>0.137230</td>\n",
       "    </tr>\n",
       "    <tr>\n",
       "      <th>thalach</th>\n",
       "      <td>-0.398522</td>\n",
       "      <td>-0.044020</td>\n",
       "      <td>0.295762</td>\n",
       "      <td>-0.046698</td>\n",
       "      <td>-0.009940</td>\n",
       "      <td>-0.008567</td>\n",
       "      <td>0.044123</td>\n",
       "      <td>1.000000</td>\n",
       "      <td>-0.378812</td>\n",
       "      <td>-0.344187</td>\n",
       "      <td>0.386784</td>\n",
       "      <td>-0.213177</td>\n",
       "      <td>-0.096439</td>\n",
       "      <td>0.421741</td>\n",
       "    </tr>\n",
       "    <tr>\n",
       "      <th>exang</th>\n",
       "      <td>0.096801</td>\n",
       "      <td>0.141664</td>\n",
       "      <td>-0.394280</td>\n",
       "      <td>0.067616</td>\n",
       "      <td>0.067023</td>\n",
       "      <td>0.025665</td>\n",
       "      <td>-0.070733</td>\n",
       "      <td>-0.378812</td>\n",
       "      <td>1.000000</td>\n",
       "      <td>0.288223</td>\n",
       "      <td>-0.257748</td>\n",
       "      <td>0.115739</td>\n",
       "      <td>0.206754</td>\n",
       "      <td>-0.436757</td>\n",
       "    </tr>\n",
       "    <tr>\n",
       "      <th>oldpeak</th>\n",
       "      <td>0.210013</td>\n",
       "      <td>0.096093</td>\n",
       "      <td>-0.149230</td>\n",
       "      <td>0.193216</td>\n",
       "      <td>0.053952</td>\n",
       "      <td>0.005747</td>\n",
       "      <td>-0.058770</td>\n",
       "      <td>-0.344187</td>\n",
       "      <td>0.288223</td>\n",
       "      <td>1.000000</td>\n",
       "      <td>-0.577537</td>\n",
       "      <td>0.222682</td>\n",
       "      <td>0.210244</td>\n",
       "      <td>-0.430696</td>\n",
       "    </tr>\n",
       "    <tr>\n",
       "      <th>slope</th>\n",
       "      <td>-0.168814</td>\n",
       "      <td>-0.030711</td>\n",
       "      <td>0.119717</td>\n",
       "      <td>-0.121475</td>\n",
       "      <td>-0.004038</td>\n",
       "      <td>-0.059894</td>\n",
       "      <td>0.093045</td>\n",
       "      <td>0.386784</td>\n",
       "      <td>-0.257748</td>\n",
       "      <td>-0.577537</td>\n",
       "      <td>1.000000</td>\n",
       "      <td>-0.080155</td>\n",
       "      <td>-0.104764</td>\n",
       "      <td>0.345877</td>\n",
       "    </tr>\n",
       "    <tr>\n",
       "      <th>ca</th>\n",
       "      <td>0.276326</td>\n",
       "      <td>0.118261</td>\n",
       "      <td>-0.181053</td>\n",
       "      <td>0.101389</td>\n",
       "      <td>0.070511</td>\n",
       "      <td>0.137979</td>\n",
       "      <td>-0.072042</td>\n",
       "      <td>-0.213177</td>\n",
       "      <td>0.115739</td>\n",
       "      <td>0.222682</td>\n",
       "      <td>-0.080155</td>\n",
       "      <td>1.000000</td>\n",
       "      <td>0.151832</td>\n",
       "      <td>-0.391724</td>\n",
       "    </tr>\n",
       "    <tr>\n",
       "      <th>thal</th>\n",
       "      <td>0.068001</td>\n",
       "      <td>0.210041</td>\n",
       "      <td>-0.161736</td>\n",
       "      <td>0.062210</td>\n",
       "      <td>0.098803</td>\n",
       "      <td>-0.032019</td>\n",
       "      <td>-0.011981</td>\n",
       "      <td>-0.096439</td>\n",
       "      <td>0.206754</td>\n",
       "      <td>0.210244</td>\n",
       "      <td>-0.104764</td>\n",
       "      <td>0.151832</td>\n",
       "      <td>1.000000</td>\n",
       "      <td>-0.344029</td>\n",
       "    </tr>\n",
       "    <tr>\n",
       "      <th>target</th>\n",
       "      <td>-0.225439</td>\n",
       "      <td>-0.280937</td>\n",
       "      <td>0.433798</td>\n",
       "      <td>-0.144931</td>\n",
       "      <td>-0.085239</td>\n",
       "      <td>-0.028046</td>\n",
       "      <td>0.137230</td>\n",
       "      <td>0.421741</td>\n",
       "      <td>-0.436757</td>\n",
       "      <td>-0.430696</td>\n",
       "      <td>0.345877</td>\n",
       "      <td>-0.391724</td>\n",
       "      <td>-0.344029</td>\n",
       "      <td>1.000000</td>\n",
       "    </tr>\n",
       "  </tbody>\n",
       "</table>\n",
       "</div>"
      ],
      "text/plain": [
       "               age       sex        cp  trestbps      chol       fbs  \\\n",
       "age       1.000000 -0.098447 -0.068653  0.279351  0.213678  0.121308   \n",
       "sex      -0.098447  1.000000 -0.049353 -0.056769 -0.197912  0.045032   \n",
       "cp       -0.068653 -0.049353  1.000000  0.047608 -0.076904  0.094444   \n",
       "trestbps  0.279351 -0.056769  0.047608  1.000000  0.123174  0.177531   \n",
       "chol      0.213678 -0.197912 -0.076904  0.123174  1.000000  0.013294   \n",
       "fbs       0.121308  0.045032  0.094444  0.177531  0.013294  1.000000   \n",
       "restecg  -0.116211 -0.058196  0.044421 -0.114103 -0.151040 -0.084189   \n",
       "thalach  -0.398522 -0.044020  0.295762 -0.046698 -0.009940 -0.008567   \n",
       "exang     0.096801  0.141664 -0.394280  0.067616  0.067023  0.025665   \n",
       "oldpeak   0.210013  0.096093 -0.149230  0.193216  0.053952  0.005747   \n",
       "slope    -0.168814 -0.030711  0.119717 -0.121475 -0.004038 -0.059894   \n",
       "ca        0.276326  0.118261 -0.181053  0.101389  0.070511  0.137979   \n",
       "thal      0.068001  0.210041 -0.161736  0.062210  0.098803 -0.032019   \n",
       "target   -0.225439 -0.280937  0.433798 -0.144931 -0.085239 -0.028046   \n",
       "\n",
       "           restecg   thalach     exang   oldpeak     slope        ca  \\\n",
       "age      -0.116211 -0.398522  0.096801  0.210013 -0.168814  0.276326   \n",
       "sex      -0.058196 -0.044020  0.141664  0.096093 -0.030711  0.118261   \n",
       "cp        0.044421  0.295762 -0.394280 -0.149230  0.119717 -0.181053   \n",
       "trestbps -0.114103 -0.046698  0.067616  0.193216 -0.121475  0.101389   \n",
       "chol     -0.151040 -0.009940  0.067023  0.053952 -0.004038  0.070511   \n",
       "fbs      -0.084189 -0.008567  0.025665  0.005747 -0.059894  0.137979   \n",
       "restecg   1.000000  0.044123 -0.070733 -0.058770  0.093045 -0.072042   \n",
       "thalach   0.044123  1.000000 -0.378812 -0.344187  0.386784 -0.213177   \n",
       "exang    -0.070733 -0.378812  1.000000  0.288223 -0.257748  0.115739   \n",
       "oldpeak  -0.058770 -0.344187  0.288223  1.000000 -0.577537  0.222682   \n",
       "slope     0.093045  0.386784 -0.257748 -0.577537  1.000000 -0.080155   \n",
       "ca       -0.072042 -0.213177  0.115739  0.222682 -0.080155  1.000000   \n",
       "thal     -0.011981 -0.096439  0.206754  0.210244 -0.104764  0.151832   \n",
       "target    0.137230  0.421741 -0.436757 -0.430696  0.345877 -0.391724   \n",
       "\n",
       "              thal    target  \n",
       "age       0.068001 -0.225439  \n",
       "sex       0.210041 -0.280937  \n",
       "cp       -0.161736  0.433798  \n",
       "trestbps  0.062210 -0.144931  \n",
       "chol      0.098803 -0.085239  \n",
       "fbs      -0.032019 -0.028046  \n",
       "restecg  -0.011981  0.137230  \n",
       "thalach  -0.096439  0.421741  \n",
       "exang     0.206754 -0.436757  \n",
       "oldpeak   0.210244 -0.430696  \n",
       "slope    -0.104764  0.345877  \n",
       "ca        0.151832 -0.391724  \n",
       "thal      1.000000 -0.344029  \n",
       "target   -0.344029  1.000000  "
      ]
     },
     "execution_count": 133,
     "metadata": {},
     "output_type": "execute_result"
    }
   ],
   "source": [
    "df.corr()"
   ]
  },
  {
   "cell_type": "markdown",
   "id": "7ddcf456",
   "metadata": {},
   "source": [
    "Let's use a heatmap to plot our correlation matrix"
   ]
  },
  {
   "cell_type": "code",
   "execution_count": 184,
   "id": "3bda6b32",
   "metadata": {},
   "outputs": [
    {
     "data": {
      "image/png": "[encoded data removed]",
      "text/plain": [
       "<Figure size 936x936 with 1 Axes>"
      ]
     },
     "metadata": {},
     "output_type": "display_data"
    }
   ],
   "source": [
    "cor_m = df.corr()\n",
    "fig, ax = plt.subplots(figsize=(13, 13))\n",
    "ax = sns.heatmap(cor_m,\n",
    "                 annot=True,\n",
    "                 linewidths=0,\n",
    "                 fmt=\".2f\",\n",
    "                 cbar=False,\n",
    "                 cmap=\"Blues\")\n",
    "\n",
    "ax.set(title=\"Correlation Matrix\");"
   ]
  },
  {
   "cell_type": "markdown",
   "id": "0877822e",
   "metadata": {},
   "source": [
    "Using our heatmap we can look visually at which variables show more correlation between them (excluding of course the diagonal since that shows a feature against itself). With our color map the lightest squares will show that 2 variables have a negative correlation (as one variable increases the other decreases) and the darkest squares will show that 2 variables have a positive correlation (as one variable increases the other increases).\n",
    "\n",
    "For our purposes, the most relevant column of the matrix is the last one since we can look at the correlation of a feature and heart disease. We can also get the same information when looking at the last row (if it is more comfortable)."
   ]
  },
  {
   "cell_type": "markdown",
   "id": "d56c20db",
   "metadata": {},
   "source": [
    "## 7. Modelling"
   ]
  },
  {
   "cell_type": "markdown",
   "id": "6fc11b9f",
   "metadata": {},
   "source": [
    "The desired model will try to predict if a patient has heart disease. To do so it will take as an input 13 different features and it will output either a 0 for no heart disease or a 1 for heart disease."
   ]
  },
  {
   "cell_type": "markdown",
   "id": "2b7b8500",
   "metadata": {},
   "source": [
    "**Setting variables**"
   ]
  },
  {
   "cell_type": "code",
   "execution_count": 135,
   "id": "4d24f665",
   "metadata": {},
   "outputs": [],
   "source": [
    "# Features variable (X)\n",
    "X = df.drop(\"target\", axis=1)\n",
    "\n",
    "# Labels variable (Y)\n",
    "Y = df[\"target\"]"
   ]
  },
  {
   "cell_type": "markdown",
   "id": "d73f0fc8",
   "metadata": {},
   "source": [
    "**Splitting our data to train and test the model**"
   ]
  },
  {
   "cell_type": "code",
   "execution_count": 136,
   "id": "c3359e96",
   "metadata": {},
   "outputs": [],
   "source": [
    "# Let's use a seed for reproducible results\n",
    "np.random.seed(42)\n",
    "\n",
    "# We can split the data using a sklearn function (imported previously)\n",
    "X_train, X_test, Y_train, Y_test = train_test_split(X, Y, test_size=0.2)"
   ]
  },
  {
   "cell_type": "markdown",
   "id": "7ad4a1ab",
   "metadata": {},
   "source": [
    "### 7.1 Choosing and fitting an estimator\n",
    "\n",
    "Due to the nature of our project, as a classification model, we will try the following machine learning models:\n",
    "\n",
    "* Logistic Regression\n",
    "* K-Nearest Neighbors Classifier\n",
    "* Random Forest Classifier\n",
    "\n",
    "To fit and score models systematically we will create a dictionary containing the models, this will also be beneficial for hyperparameter modifications."
   ]
  },
  {
   "cell_type": "code",
   "execution_count": 137,
   "id": "a2baa081",
   "metadata": {},
   "outputs": [],
   "source": [
    "# Put models in a dictionary\n",
    "models = {\"Logistic Regression\": LogisticRegression(),\n",
    "          \"KNN\": KNeighborsClassifier(),\n",
    "          \"Random Forest\": RandomForestClassifier()}\n",
    "\n",
    "# Fit and score function\n",
    "def fit_score(models, X_train, X_test, Y_train, Y_test):\n",
    "    \"\"\"\n",
    "    This function will take estimators on a dictionary (models)\n",
    "    It will fit the training data on the estimators (X_train, y_train)\n",
    "    It will score the estimators on the test data (X_test, y_test)\n",
    "    It will add the scores to a dictionary (model_scores)\n",
    "    \"\"\"\n",
    "    model_scores = {}\n",
    "    \n",
    "    for key, value in models.items():\n",
    "        # Fitting\n",
    "        value.fit(X_train, Y_train)\n",
    "        # Scoring\n",
    "        model_scores[key] = value.score(X_test, Y_test)\n",
    "    return model_scores"
   ]
  },
  {
   "cell_type": "code",
   "execution_count": 138,
   "id": "6263d306",
   "metadata": {},
   "outputs": [
    {
     "name": "stderr",
     "output_type": "stream",
     "text": [
      "C:\\Users\\joaco\\Documents\\MLProject\\env\\lib\\site-packages\\sklearn\\linear_model\\_logistic.py:763: ConvergenceWarning: lbfgs failed to converge (status=1):\n",
      "STOP: TOTAL NO. of ITERATIONS REACHED LIMIT.\n",
      "\n",
      "Increase the number of iterations (max_iter) or scale the data as shown in:\n",
      "    https://scikit-learn.org/stable/modules/preprocessing.html\n",
      "Please also refer to the documentation for alternative solver options:\n",
      "    https://scikit-learn.org/stable/modules/linear_model.html#logistic-regression\n",
      "  n_iter_i = _check_optimize_result(\n"
     ]
    },
    {
     "data": {
      "text/plain": [
       "{'Logistic Regression': 0.8852459016393442,\n",
       " 'KNN': 0.6885245901639344,\n",
       " 'Random Forest': 0.8524590163934426}"
      ]
     },
     "execution_count": 138,
     "metadata": {},
     "output_type": "execute_result"
    }
   ],
   "source": [
    "model_scores = fit_score(models=models, \n",
    "                         X_train=X_train,\n",
    "                         X_test=X_test,\n",
    "                         Y_train=Y_train,\n",
    "                         Y_test=Y_test)\n",
    "model_scores"
   ]
  },
  {
   "cell_type": "markdown",
   "id": "fe3f1245",
   "metadata": {},
   "source": [
    "**Visual representation of the model scores**"
   ]
  },
  {
   "cell_type": "code",
   "execution_count": 139,
   "id": "7b9f6743",
   "metadata": {},
   "outputs": [
    {
     "data": {
      "image/png": "[encoded data removed]",
      "text/plain": [
       "<Figure size 460.8x403.2 with 1 Axes>"
      ]
     },
     "metadata": {},
     "output_type": "display_data"
    }
   ],
   "source": [
    "model_compare = pd.DataFrame(model_scores, index=[\"accuracy\"])\n",
    "ax = model_compare.T.plot.bar()\n",
    "ax.set(title=\"Accuracy per model\",\n",
    "       xlabel=\"Model\",\n",
    "       ylabel=\"Accuracy score\")\n",
    "plt.xticks(rotation=0);"
   ]
  },
  {
   "cell_type": "markdown",
   "id": "3de28391",
   "metadata": {},
   "source": [
    "Looking at the baseline models' accuracy scores, a logistic regression estimator seems to be a good model to pursue, a random forest classifier also seems to be viable. Improving the baseline models further might be possible by adjusting their hyperparameters.\n",
    "\n",
    "In addition, accuracy is not the only metric we should look at when evaluating a model. Moreover, our train and test split might have been a lucky split for the logistic regression, we should also use cross validation to test the models further.\n",
    "\n",
    "To test our models we will consider their:\n",
    "\n",
    "* Confusion matrix\n",
    "* Precision\n",
    "* Recall\n",
    "* F1\n",
    "* ROC curve\n",
    "* AUC"
   ]
  },
  {
   "cell_type": "markdown",
   "id": "5c533ca7",
   "metadata": {},
   "source": [
    "### 7.2 Improving the models"
   ]
  },
  {
   "cell_type": "markdown",
   "id": "6e8c3461",
   "metadata": {},
   "source": [
    "**KNN hyperparameter tuning (manually)**"
   ]
  },
  {
   "cell_type": "code",
   "execution_count": 140,
   "id": "c9221170",
   "metadata": {},
   "outputs": [],
   "source": [
    "test_scores = []\n",
    "\n",
    "# n_neighbors hyperparameter\n",
    "neighbors = range(1, 21)\n",
    "\n",
    "# estimator instance\n",
    "knn = KNeighborsClassifier()\n",
    "\n",
    "# scoring estimator with different values for the hyperparameter\n",
    "for i in neighbors:\n",
    "    knn.set_params(n_neighbors=i)\n",
    "    knn.fit(X_train, Y_train)\n",
    "    test_scores.append(knn.score(X_test, Y_test))"
   ]
  },
  {
   "cell_type": "code",
   "execution_count": 141,
   "id": "a4e70b9a",
   "metadata": {},
   "outputs": [
    {
     "name": "stdout",
     "output_type": "stream",
     "text": [
      "Max KNN score on the test data: 75.41%\n"
     ]
    },
    {
     "data": {
      "image/png": "[encoded data removed]",
      "text/plain": [
       "<Figure size 460.8x403.2 with 1 Axes>"
      ]
     },
     "metadata": {},
     "output_type": "display_data"
    }
   ],
   "source": [
    "plt.plot(neighbors, test_scores, label=\"Test score\")\n",
    "plt.xticks(np.arange(1, 21, 1))\n",
    "plt.xlabel(\"Number of neighbors\")\n",
    "plt.ylabel(\"Model score\")\n",
    "plt.legend()\n",
    "\n",
    "print(f\"Max KNN score on the test data: {max(test_scores)*100:.2f}%\");"
   ]
  },
  {
   "cell_type": "markdown",
   "id": "6fb2beb4",
   "metadata": {},
   "source": [
    "After a little bit of tuning we can see that the KNN estimator hasn't reached the accuracy scores the other models got in the first try. Thus we won't keep fitting the data to this model."
   ]
  },
  {
   "cell_type": "markdown",
   "id": "a085df8e",
   "metadata": {},
   "source": [
    "**Cross validated hyperparameter tuning (randomly)**"
   ]
  },
  {
   "cell_type": "markdown",
   "id": "ad805248",
   "metadata": {},
   "source": [
    "Cross validation will split the test and train data in k different ways (called folds) and determine the best set of hyperparameters by scoring the model predictions with the different splits. We will use a 5-fold cross validation."
   ]
  },
  {
   "cell_type": "markdown",
   "id": "9ac6fcc3",
   "metadata": {},
   "source": [
    "<b>*Logistic regression*</b>\n",
    "\n",
    "We will check different values for \"C\" using a \"liblinear\" value for solver."
   ]
  },
  {
   "cell_type": "code",
   "execution_count": 142,
   "id": "5299ab64",
   "metadata": {},
   "outputs": [],
   "source": [
    "# Hyperparameter grid\n",
    "log_grid = {\"C\": np.logspace(-4, 4, 20),\n",
    "            \"solver\": [\"liblinear\"]}"
   ]
  },
  {
   "cell_type": "code",
   "execution_count": 143,
   "id": "a7af98fe",
   "metadata": {},
   "outputs": [
    {
     "name": "stdout",
     "output_type": "stream",
     "text": [
      "Fitting 5 folds for each of 20 candidates, totalling 100 fits\n"
     ]
    },
    {
     "data": {
      "text/plain": [
       "RandomizedSearchCV(cv=5, estimator=LogisticRegression(), n_iter=20,\n",
       "                   param_distributions={'C': array([1.00000000e-04, 2.63665090e-04, 6.95192796e-04, 1.83298071e-03,\n",
       "       4.83293024e-03, 1.27427499e-02, 3.35981829e-02, 8.85866790e-02,\n",
       "       2.33572147e-01, 6.15848211e-01, 1.62377674e+00, 4.28133240e+00,\n",
       "       1.12883789e+01, 2.97635144e+01, 7.84759970e+01, 2.06913808e+02,\n",
       "       5.45559478e+02, 1.43844989e+03, 3.79269019e+03, 1.00000000e+04]),\n",
       "                                        'solver': ['liblinear']},\n",
       "                   verbose=1)"
      ]
     },
     "execution_count": 143,
     "metadata": {},
     "output_type": "execute_result"
    }
   ],
   "source": [
    "np.random.seed(42)\n",
    "\n",
    "# RandomizedSearchCV on the grid\n",
    "rs_log = RandomizedSearchCV(LogisticRegression(),\n",
    "                           param_distributions=log_grid,\n",
    "                           cv=5,\n",
    "                           n_iter=20,\n",
    "                           verbose=1)\n",
    "\n",
    "# Fitting RandomizedSearchCV model\n",
    "rs_log.fit(X_train, Y_train)"
   ]
  },
  {
   "cell_type": "code",
   "execution_count": 144,
   "id": "5f6a86db",
   "metadata": {},
   "outputs": [
    {
     "data": {
      "text/plain": [
       "{'solver': 'liblinear', 'C': 0.23357214690901212}"
      ]
     },
     "execution_count": 144,
     "metadata": {},
     "output_type": "execute_result"
    }
   ],
   "source": [
    "# Best parameters\n",
    "rs_log.best_params_"
   ]
  },
  {
   "cell_type": "code",
   "execution_count": 145,
   "id": "f959f76b",
   "metadata": {},
   "outputs": [
    {
     "data": {
      "text/plain": [
       "0.8852459016393442"
      ]
     },
     "execution_count": 145,
     "metadata": {},
     "output_type": "execute_result"
    }
   ],
   "source": [
    "# New score\n",
    "rs_log.score(X_test, Y_test)"
   ]
  },
  {
   "cell_type": "markdown",
   "id": "bcf8cc4c",
   "metadata": {},
   "source": [
    "<b>*Random Forest Classifier*</b>\n",
    "\n",
    "We will check different values for the number of estimators, the \"max_depth\", the \"min_samples_split\" and the \"min_samples_leaf\"."
   ]
  },
  {
   "cell_type": "code",
   "execution_count": 146,
   "id": "4ffb78b3",
   "metadata": {},
   "outputs": [],
   "source": [
    "# Hyperparameter grid\n",
    "rf_grid = {\"n_estimators\": np.arange(10, 1000, 50),\n",
    "           \"max_depth\": [None, 3, 5, 10],\n",
    "           \"min_samples_split\": np.arange(2, 20, 2),\n",
    "           \"min_samples_leaf\": np.arange(1, 20, 2)}"
   ]
  },
  {
   "cell_type": "code",
   "execution_count": 147,
   "id": "e3859074",
   "metadata": {},
   "outputs": [
    {
     "name": "stdout",
     "output_type": "stream",
     "text": [
      "Fitting 5 folds for each of 20 candidates, totalling 100 fits\n"
     ]
    },
    {
     "data": {
      "text/plain": [
       "RandomizedSearchCV(cv=5, estimator=RandomForestClassifier(), n_iter=20,\n",
       "                   param_distributions={'max_depth': [None, 3, 5, 10],\n",
       "                                        'min_samples_leaf': array([ 1,  3,  5,  7,  9, 11, 13, 15, 17, 19]),\n",
       "                                        'min_samples_split': array([ 2,  4,  6,  8, 10, 12, 14, 16, 18]),\n",
       "                                        'n_estimators': array([ 10,  60, 110, 160, 210, 260, 310, 360, 410, 460, 510, 560, 610,\n",
       "       660, 710, 760, 810, 860, 910, 960])},\n",
       "                   verbose=1)"
      ]
     },
     "execution_count": 147,
     "metadata": {},
     "output_type": "execute_result"
    }
   ],
   "source": [
    "np.random.seed(42)\n",
    "\n",
    "# RandomizedSearchCV on the grid\n",
    "rs_rf = RandomizedSearchCV(RandomForestClassifier(),\n",
    "                           param_distributions=rf_grid,\n",
    "                           cv=5,\n",
    "                           n_iter=20,\n",
    "                           verbose=1)\n",
    "\n",
    "# Fitting RandomizedSearchCV model\n",
    "rs_rf.fit(X_train, Y_train)"
   ]
  },
  {
   "cell_type": "code",
   "execution_count": 148,
   "id": "1945a5c2",
   "metadata": {},
   "outputs": [
    {
     "data": {
      "text/plain": [
       "{'n_estimators': 210,\n",
       " 'min_samples_split': 4,\n",
       " 'min_samples_leaf': 19,\n",
       " 'max_depth': 3}"
      ]
     },
     "execution_count": 148,
     "metadata": {},
     "output_type": "execute_result"
    }
   ],
   "source": [
    "# Best parameters\n",
    "rs_rf.best_params_"
   ]
  },
  {
   "cell_type": "code",
   "execution_count": 149,
   "id": "184a80e5",
   "metadata": {},
   "outputs": [
    {
     "data": {
      "text/plain": [
       "0.8688524590163934"
      ]
     },
     "execution_count": 149,
     "metadata": {},
     "output_type": "execute_result"
    }
   ],
   "source": [
    "# New score (with best hyperparameters)\n",
    "rs_rf.score(X_test, Y_test)"
   ]
  },
  {
   "cell_type": "markdown",
   "id": "8d039b00",
   "metadata": {},
   "source": [
    "**Cross validated hyperparameter tuning (exhaustively)**\n",
    "\n",
    "We will tune the Logisitc Regresion model exhaustively using GridSearchCV since it had the best accuracy score so far."
   ]
  },
  {
   "cell_type": "code",
   "execution_count": 150,
   "id": "1ab6da70",
   "metadata": {},
   "outputs": [
    {
     "name": "stdout",
     "output_type": "stream",
     "text": [
      "Fitting 5 folds for each of 30 candidates, totalling 150 fits\n"
     ]
    },
    {
     "data": {
      "text/plain": [
       "GridSearchCV(cv=5, estimator=LogisticRegression(),\n",
       "             param_grid={'C': array([1.00000000e-04, 1.88739182e-04, 3.56224789e-04, 6.72335754e-04,\n",
       "       1.26896100e-03, 2.39502662e-03, 4.52035366e-03, 8.53167852e-03,\n",
       "       1.61026203e-02, 3.03919538e-02, 5.73615251e-02, 1.08263673e-01,\n",
       "       2.04335972e-01, 3.85662042e-01, 7.27895384e-01, 1.37382380e+00,\n",
       "       2.59294380e+00, 4.89390092e+00, 9.23670857e+00, 1.74332882e+01,\n",
       "       3.29034456e+01, 6.21016942e+01, 1.17210230e+02, 2.21221629e+02,\n",
       "       4.17531894e+02, 7.88046282e+02, 1.48735211e+03, 2.80721620e+03,\n",
       "       5.29831691e+03, 1.00000000e+04]),\n",
       "                         'solver': ['liblinear']},\n",
       "             verbose=1)"
      ]
     },
     "execution_count": 150,
     "metadata": {},
     "output_type": "execute_result"
    }
   ],
   "source": [
    "# Hyperparameter grid\n",
    "log_grid = {\"C\": np.logspace(-4, 4, 30),\n",
    "            \"solver\": [\"liblinear\"]}\n",
    "\n",
    "# GridSearchCV\n",
    "gs_log = GridSearchCV(LogisticRegression(),\n",
    "                      param_grid=log_grid,\n",
    "                      cv=5,\n",
    "                      verbose=1)\n",
    "\n",
    "# Fit best parameters model\n",
    "gs_log.fit(X_train, Y_train)"
   ]
  },
  {
   "cell_type": "code",
   "execution_count": 151,
   "id": "dfa7d465",
   "metadata": {},
   "outputs": [
    {
     "data": {
      "text/plain": [
       "{'C': 0.20433597178569418, 'solver': 'liblinear'}"
      ]
     },
     "execution_count": 151,
     "metadata": {},
     "output_type": "execute_result"
    }
   ],
   "source": [
    "# Best parameters (as found by GridSearchCV)\n",
    "gs_log.best_params_"
   ]
  },
  {
   "cell_type": "code",
   "execution_count": 152,
   "id": "bf09a548",
   "metadata": {},
   "outputs": [
    {
     "data": {
      "text/plain": [
       "0.8852459016393442"
      ]
     },
     "execution_count": 152,
     "metadata": {},
     "output_type": "execute_result"
    }
   ],
   "source": [
    "# New accuracy\n",
    "gs_log.score(X_test, Y_test)"
   ]
  },
  {
   "cell_type": "markdown",
   "id": "f8509e2e",
   "metadata": {},
   "source": [
    "### 7.3 Further evaluation of the models"
   ]
  },
  {
   "cell_type": "code",
   "execution_count": 153,
   "id": "5b3d5e54",
   "metadata": {},
   "outputs": [],
   "source": [
    "# Tuned Logistic Regerssion predictions\n",
    "Y_preds = gs_log.predict(X_test)"
   ]
  },
  {
   "cell_type": "markdown",
   "id": "30e413f3",
   "metadata": {},
   "source": [
    "**ROC Curve and AUC**"
   ]
  },
  {
   "cell_type": "code",
   "execution_count": 154,
   "id": "0e88bef7",
   "metadata": {},
   "outputs": [
    {
     "data": {
      "image/png": "[encoded data removed]",
      "text/plain": [
       "<Figure size 460.8x403.2 with 1 Axes>"
      ]
     },
     "metadata": {},
     "output_type": "display_data"
    }
   ],
   "source": [
    "# Plot ROC curve\n",
    "plot_roc_curve(gs_log, X_test, Y_test)\n",
    "plt.plot([0,1], [0,1], linestyle=\"--\")\n",
    "plt.title(\"ROC Curve\");"
   ]
  },
  {
   "cell_type": "markdown",
   "id": "8d048ee0",
   "metadata": {},
   "source": [
    "**Confusion Matrix**"
   ]
  },
  {
   "cell_type": "code",
   "execution_count": 165,
   "id": "8041fade",
   "metadata": {},
   "outputs": [
    {
     "data": {
      "text/plain": [
       "array([[25,  4],\n",
       "       [ 3, 29]], dtype=int64)"
      ]
     },
     "execution_count": 165,
     "metadata": {},
     "output_type": "execute_result"
    }
   ],
   "source": [
    "cm = confusion_matrix(Y_test, Y_preds)\n",
    "cm"
   ]
  },
  {
   "cell_type": "code",
   "execution_count": 171,
   "id": "25a9f8f1",
   "metadata": {},
   "outputs": [
    {
     "data": {
      "image/png": "[encoded data removed]",
      "text/plain": [
       "<Figure size 216x216 with 1 Axes>"
      ]
     },
     "metadata": {},
     "output_type": "display_data"
    }
   ],
   "source": [
    "def conf_mat(Y_test, Y_preds):\n",
    "    \"\"\"\n",
    "    Plots a confusion matrix using a heatmap\n",
    "    \"\"\"\n",
    "    fig, ax = plt.subplots(figsize=(3,3))\n",
    "    ax = sns.heatmap(confusion_matrix(Y_test, Y_preds),\n",
    "                     annot=True,\n",
    "                     cbar=False,\n",
    "                     cmap=\"Blues\")\n",
    "    plt.xlabel(\"Predicted label\")\n",
    "    plt.ylabel(\"True label\")\n",
    "    plt.title(\"Confusion Matrix\")\n",
    "\n",
    "conf_mat(Y_test, Y_preds);"
   ]
  },
  {
   "cell_type": "markdown",
   "id": "e2a94db0",
   "metadata": {},
   "source": [
    "**Classification Report**"
   ]
  },
  {
   "cell_type": "code",
   "execution_count": 172,
   "id": "70a8f77b",
   "metadata": {},
   "outputs": [
    {
     "name": "stdout",
     "output_type": "stream",
     "text": [
      "              precision    recall  f1-score   support\n",
      "\n",
      "           0       0.89      0.86      0.88        29\n",
      "           1       0.88      0.91      0.89        32\n",
      "\n",
      "    accuracy                           0.89        61\n",
      "   macro avg       0.89      0.88      0.88        61\n",
      "weighted avg       0.89      0.89      0.89        61\n",
      "\n"
     ]
    }
   ],
   "source": [
    "print(classification_report(Y_test, Y_preds))"
   ]
  },
  {
   "cell_type": "markdown",
   "id": "0ac0dcca",
   "metadata": {},
   "source": [
    "$\\text{Precision} := \\frac{\\text{True positives}}{\\text{True positives + False positives}}\\$\n",
    "\n",
    "$\\text{Recall} := \\frac{\\text{True positives}}{\\text{True positives + False negatives}}\\$\n",
    "\n",
    "$\\text{F1} := 2 \\times\\ \\frac{\\text{(Precision)(Recall)}}{\\text{Precision + Recall}}\\$"
   ]
  },
  {
   "cell_type": "markdown",
   "id": "bf2fc24e",
   "metadata": {},
   "source": [
    "**Cross-validated precision, recall and F1**"
   ]
  },
  {
   "cell_type": "code",
   "execution_count": 173,
   "id": "7cc969fb",
   "metadata": {},
   "outputs": [
    {
     "data": {
      "text/plain": [
       "{'C': 0.20433597178569418, 'solver': 'liblinear'}"
      ]
     },
     "execution_count": 173,
     "metadata": {},
     "output_type": "execute_result"
    }
   ],
   "source": [
    "# Best parameters\n",
    "gs_log.best_params_"
   ]
  },
  {
   "cell_type": "code",
   "execution_count": 174,
   "id": "d419bef3",
   "metadata": {},
   "outputs": [],
   "source": [
    "# Define a classifier using the best parameters\n",
    "clf = LogisticRegression(C=0.20433597178569418,\n",
    "                         solver='liblinear')"
   ]
  },
  {
   "cell_type": "code",
   "execution_count": 175,
   "id": "8073d5c4",
   "metadata": {},
   "outputs": [
    {
     "data": {
      "image/png": "[encoded data removed]",
      "text/plain": [
       "<Figure size 460.8x403.2 with 1 Axes>"
      ]
     },
     "metadata": {},
     "output_type": "display_data"
    }
   ],
   "source": [
    "def cv_evaluate(model, X, Y):\n",
    "    \"\"\"\n",
    "    Evaluate a model on different metrics using 5-fold cross-validation.\n",
    "    \"\"\"\n",
    "    cv_metrics = {}\n",
    "    cv_scoring = {\"Accuracy\": \"accuracy\",\n",
    "                  \"Precision\": \"precision\",\n",
    "                  \"Recall\": \"recall\",\n",
    "                  \"F1\": \"f1\"}\n",
    "    \n",
    "    for key, value in cv_scoring.items():\n",
    "        cv_metrics[key] = np.mean(cross_val_score(model, X, Y, cv=5, scoring=value))\n",
    "    \n",
    "    cv_report = pd.DataFrame(cv_metrics, index=[0])\n",
    "    cv_report.T.plot.bar(title=\"Cross-Validated Evaluation\", legend=0)\n",
    "    plt.xticks(rotation=0);\n",
    "    \n",
    "cv_evaluate(clf, X, Y);"
   ]
  },
  {
   "cell_type": "markdown",
   "id": "5f3f2ecc",
   "metadata": {},
   "source": [
    "### 7.4 Feature Importance\n",
    "\n",
    "Feature importance allows us to see which features contributed the most for our model to predict the target.\n",
    "\n",
    "Finding feature importance is distinct for different estimators."
   ]
  },
  {
   "cell_type": "markdown",
   "id": "dfff856b",
   "metadata": {},
   "source": [
    "**Logistic Regression feature importance**"
   ]
  },
  {
   "cell_type": "code",
   "execution_count": 176,
   "id": "fab3f9b1",
   "metadata": {},
   "outputs": [],
   "source": [
    "# Instantiate the estimator\n",
    "clf = LogisticRegression(C=0.20433597178569418,\n",
    "                         solver='liblinear')\n",
    "\n",
    "clf.fit(X_train, Y_train);"
   ]
  },
  {
   "cell_type": "code",
   "execution_count": 177,
   "id": "7a071371",
   "metadata": {},
   "outputs": [
    {
     "data": {
      "text/plain": [
       "array([[ 0.00316728, -0.86044652,  0.6606704 , -0.01156993, -0.00166375,\n",
       "         0.04386107,  0.31275848,  0.02459362, -0.60413081, -0.56862803,\n",
       "         0.45051628, -0.63609898, -0.67663373]])"
      ]
     },
     "execution_count": 177,
     "metadata": {},
     "output_type": "execute_result"
    }
   ],
   "source": [
    "# Check coefficients\n",
    "clf.coef_"
   ]
  },
  {
   "cell_type": "code",
   "execution_count": 178,
   "id": "74916dab",
   "metadata": {},
   "outputs": [
    {
     "data": {
      "text/html": [
       "<div>\n",
       "<style scoped>\n",
       "    .dataframe tbody tr th:only-of-type {\n",
       "        vertical-align: middle;\n",
       "    }\n",
       "\n",
       "    .dataframe tbody tr th {\n",
       "        vertical-align: top;\n",
       "    }\n",
       "\n",
       "    .dataframe thead th {\n",
       "        text-align: right;\n",
       "    }\n",
       "</style>\n",
       "<table border=\"1\" class=\"dataframe\">\n",
       "  <thead>\n",
       "    <tr style=\"text-align: right;\">\n",
       "      <th></th>\n",
       "      <th>age</th>\n",
       "      <th>sex</th>\n",
       "      <th>cp</th>\n",
       "      <th>trestbps</th>\n",
       "      <th>chol</th>\n",
       "      <th>fbs</th>\n",
       "      <th>restecg</th>\n",
       "      <th>thalach</th>\n",
       "      <th>exang</th>\n",
       "      <th>oldpeak</th>\n",
       "      <th>slope</th>\n",
       "      <th>ca</th>\n",
       "      <th>thal</th>\n",
       "    </tr>\n",
       "  </thead>\n",
       "  <tbody>\n",
       "    <tr>\n",
       "      <th>Coefficient</th>\n",
       "      <td>0.003167</td>\n",
       "      <td>-0.860447</td>\n",
       "      <td>0.66067</td>\n",
       "      <td>-0.01157</td>\n",
       "      <td>-0.001664</td>\n",
       "      <td>0.043861</td>\n",
       "      <td>0.312758</td>\n",
       "      <td>0.024594</td>\n",
       "      <td>-0.604131</td>\n",
       "      <td>-0.568628</td>\n",
       "      <td>0.450516</td>\n",
       "      <td>-0.636099</td>\n",
       "      <td>-0.676634</td>\n",
       "    </tr>\n",
       "  </tbody>\n",
       "</table>\n",
       "</div>"
      ],
      "text/plain": [
       "                  age       sex       cp  trestbps      chol       fbs  \\\n",
       "Coefficient  0.003167 -0.860447  0.66067  -0.01157 -0.001664  0.043861   \n",
       "\n",
       "              restecg   thalach     exang   oldpeak     slope        ca  \\\n",
       "Coefficient  0.312758  0.024594 -0.604131 -0.568628  0.450516 -0.636099   \n",
       "\n",
       "                 thal  \n",
       "Coefficient -0.676634  "
      ]
     },
     "execution_count": 178,
     "metadata": {},
     "output_type": "execute_result"
    }
   ],
   "source": [
    "feature_dict = dict(zip(df.columns, list(clf.coef_[0])))\n",
    "feature_importance = pd.DataFrame(feature_dict, index=[\"Coefficient\"])\n",
    "feature_importance"
   ]
  },
  {
   "cell_type": "code",
   "execution_count": 179,
   "id": "41b099f4",
   "metadata": {},
   "outputs": [
    {
     "data": {
      "image/png": "[encoded data removed]",
      "text/plain": [
       "<Figure size 460.8x403.2 with 1 Axes>"
      ]
     },
     "metadata": {},
     "output_type": "display_data"
    }
   ],
   "source": [
    "ax = feature_importance.T.plot.bar(title=\"Feature Importance\", legend=0);"
   ]
  },
  {
   "cell_type": "code",
   "execution_count": null,
   "id": "e87c9d53",
   "metadata": {},
   "outputs": [],
   "source": []
  }
 ],
 "metadata": {
  "kernelspec": {
   "display_name": "Python 3",
   "language": "python",
   "name": "python3"
  },
  "language_info": {
   "codemirror_mode": {
    "name": "ipython",
    "version": 3
   },
   "file_extension": ".py",
   "mimetype": "text/x-python",
   "name": "python",
   "nbconvert_exporter": "python",
   "pygments_lexer": "ipython3",
   "version": "3.9.5"
  }
 },
 "nbformat": 4,
 "nbformat_minor": 5
}
